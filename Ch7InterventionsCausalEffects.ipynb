{
  "nbformat": 4,
  "nbformat_minor": 0,
  "metadata": {
    "colab": {
      "provenance": [],
      "authorship_tag": "ABX9TyN/Yk/9004r0iPm9p5Sgdjh"
    },
    "kernelspec": {
      "name": "python3",
      "display_name": "Python 3"
    },
    "language_info": {
      "name": "python"
    }
  },
  "cells": [
    {
      "cell_type": "markdown",
      "source": [
        "# Simulating Experimental Data from Observational Data\n",
        "\n",
        "This chapter deals with interventions which the book defines as *something an agent does to cause other things to happen; generally interventions change the DGP*\n",
        "\n",
        "\n",
        "In many cases, deploying ml models will impact the DGP (i.e. future data) through the *predictions/decisions* they make. The book gives two examples from two different domains and the future impact of the DGP.\n",
        "\n",
        "\n",
        "The first domain deals with meteorology in which the ml model is trained to predict whether to bring an umbrella based on sensor data. After being trained, the model is deployed into the wild and retrained with additional data. In this domain the ml model's prediction/decision has *no effect on the DGP process* since deciding whether to bring an umbrella has no effect on predicting future weather patterns.\n",
        "\n",
        "\n",
        "The second domain deals with a business example in which the ml model is trained to predict whether to spend money on advertising based on past data of the business’ profitability. After the model is trained, the model is deployed into the wild and *retrained with additional data*. However, unlike in the first domain, in this domain the prediction/decision of the ml model will affect the DGP, since the ml model's prediction/decision of spending money on advertising will affect the business’ future profitability.\n",
        "\n",
        "\n",
        "As the book states:\n",
        "\n",
        "\n",
        ">  [I]n many, if not most, domains where we want to use machine learning, *those model-driven decisions are interventions—actions that change the DGP*. That can lead to a mismatch between the model’s training and deployment conditions, leading to problems in the model’s reliability.\n",
        "\n",
        "\n",
        "Generally companies rely on randomized experiments to make intervention decisions. For example designing a game to have more side quests so that users make more in-game purchases. While this is the correct method there is a cost to running randomized experiments on unsuspecting users of a video game.\n",
        "\n",
        "\n",
        "It would be nice to use the observational data of users just playing the game to make the *correct intervention decision*; enter causal modeling. This example constructs a causal model to simulate the results of conducting a randomized experiment without actually conducting a randomized experiment. This is done using [pyro](https://pyro.ai/) and its *do* function.\n"
      ],
      "metadata": {
        "id": "U_ZDuWg9lNCr"
      }
    },
    {
      "cell_type": "code",
      "execution_count": null,
      "metadata": {
        "id": "tQ6tKVpmwucR"
      },
      "outputs": [],
      "source": [
        "!pip install pyro-ppl\n",
        "!pip install pgmpy"
      ]
    },
    {
      "cell_type": "code",
      "source": [
        "import pandas as pd"
      ],
      "metadata": {
        "id": "AQSazKmrABV4"
      },
      "execution_count": null,
      "outputs": []
    },
    {
      "cell_type": "code",
      "source": [
        "url = \"https://raw.githubusercontent.com/altdeep/causalML/master/datasets/sidequests_and_purchases_full_obs.csv\""
      ],
      "metadata": {
        "id": "DuOMTik6AED_"
      },
      "execution_count": null,
      "outputs": []
    },
    {
      "cell_type": "code",
      "source": [
        "df=pd.read_csv(url)"
      ],
      "metadata": {
        "id": "39KPD2RwBJKP"
      },
      "execution_count": null,
      "outputs": []
    },
    {
      "cell_type": "code",
      "source": [
        "# p(guild_membership)\n",
        "member_counts = df['Guild Membership'].value_counts()\n",
        "dist_guild_membership = member_counts/sum(member_counts)\n",
        "dist_guild_membership"
      ],
      "metadata": {
        "colab": {
          "base_uri": "https://localhost:8080/",
          "height": 178
        },
        "id": "WwjacU3NK2yM",
        "outputId": "b1a20bf8-3ca8-4ee2-ca7b-2e74efa1c173"
      },
      "execution_count": null,
      "outputs": [
        {
          "output_type": "execute_result",
          "data": {
            "text/plain": [
              "Guild Membership\n",
              "nonmember    0.515\n",
              "member       0.485\n",
              "Name: count, dtype: float64"
            ],
            "text/html": [
              "<div>\n",
              "<style scoped>\n",
              "    .dataframe tbody tr th:only-of-type {\n",
              "        vertical-align: middle;\n",
              "    }\n",
              "\n",
              "    .dataframe tbody tr th {\n",
              "        vertical-align: top;\n",
              "    }\n",
              "\n",
              "    .dataframe thead th {\n",
              "        text-align: right;\n",
              "    }\n",
              "</style>\n",
              "<table border=\"1\" class=\"dataframe\">\n",
              "  <thead>\n",
              "    <tr style=\"text-align: right;\">\n",
              "      <th></th>\n",
              "      <th>count</th>\n",
              "    </tr>\n",
              "    <tr>\n",
              "      <th>Guild Membership</th>\n",
              "      <th></th>\n",
              "    </tr>\n",
              "  </thead>\n",
              "  <tbody>\n",
              "    <tr>\n",
              "      <th>nonmember</th>\n",
              "      <td>0.515</td>\n",
              "    </tr>\n",
              "    <tr>\n",
              "      <th>member</th>\n",
              "      <td>0.485</td>\n",
              "    </tr>\n",
              "  </tbody>\n",
              "</table>\n",
              "</div><br><label><b>dtype:</b> float64</label>"
            ]
          },
          "metadata": {},
          "execution_count": 5
        }
      ]
    },
    {
      "cell_type": "code",
      "source": [
        "# p(side_quest_engage | guild_membership)\n",
        "member_subset = df[(df['Guild Membership'] == 'member')]\n",
        "member_engagement_counts = (\n",
        "    member_subset['Side-quest Engagement'].value_counts()\n",
        ")\n",
        "dist_engagement_member = (\n",
        "    member_engagement_counts / sum(member_engagement_counts)\n",
        ")\n",
        "dist_engagement_member"
      ],
      "metadata": {
        "colab": {
          "base_uri": "https://localhost:8080/",
          "height": 178
        },
        "id": "adsNpFdZTTSP",
        "outputId": "2a6fd2c8-0ab1-4275-d2fa-cc5c5c44ed26"
      },
      "execution_count": null,
      "outputs": [
        {
          "output_type": "execute_result",
          "data": {
            "text/plain": [
              "Side-quest Engagement\n",
              "high    0.797938\n",
              "low     0.202062\n",
              "Name: count, dtype: float64"
            ],
            "text/html": [
              "<div>\n",
              "<style scoped>\n",
              "    .dataframe tbody tr th:only-of-type {\n",
              "        vertical-align: middle;\n",
              "    }\n",
              "\n",
              "    .dataframe tbody tr th {\n",
              "        vertical-align: top;\n",
              "    }\n",
              "\n",
              "    .dataframe thead th {\n",
              "        text-align: right;\n",
              "    }\n",
              "</style>\n",
              "<table border=\"1\" class=\"dataframe\">\n",
              "  <thead>\n",
              "    <tr style=\"text-align: right;\">\n",
              "      <th></th>\n",
              "      <th>count</th>\n",
              "    </tr>\n",
              "    <tr>\n",
              "      <th>Side-quest Engagement</th>\n",
              "      <th></th>\n",
              "    </tr>\n",
              "  </thead>\n",
              "  <tbody>\n",
              "    <tr>\n",
              "      <th>high</th>\n",
              "      <td>0.797938</td>\n",
              "    </tr>\n",
              "    <tr>\n",
              "      <th>low</th>\n",
              "      <td>0.202062</td>\n",
              "    </tr>\n",
              "  </tbody>\n",
              "</table>\n",
              "</div><br><label><b>dtype:</b> float64</label>"
            ]
          },
          "metadata": {},
          "execution_count": 10
        }
      ]
    },
    {
      "cell_type": "code",
      "source": [
        "# p(in_game_purchase | side_quest_engage, guild_membership)\n",
        "purchase_dist_nonmember_low_engagement = df[\n",
        "    (df['Guild Membership'] == 'nonmember') &\n",
        "    (df['Side-quest Engagement'] == 'low')\n",
        "].drop(\n",
        "  ['User ID', 'Side-quest Engagement', 'Guild Membership'], axis=1\n",
        ").agg(['mean', 'std'])\n",
        "print(round(purchase_dist_nonmember_low_engagement, 2))\n",
        "\n",
        "purchase_dist_nonmember_high_engagement = df[\n",
        "    (df['Guild Membership'] == 'nonmember') &\n",
        "    (df['Side-quest Engagement'] == 'high')\n",
        "].drop(\n",
        "  ['User ID', 'Side-quest Engagement', 'Guild Membership'], axis=1\n",
        ").agg(['mean', 'std'])\n",
        "print(round(purchase_dist_nonmember_high_engagement, 2))\n",
        "\n",
        "purchase_dist_member_low_engagement = df[\n",
        "    (df['Guild Membership'] == 'member') &\n",
        "    (df['Side-quest Engagement'] == 'low')\n",
        "].drop(\n",
        "  ['User ID', 'Side-quest Engagement', 'Guild Membership'], axis=1\n",
        ").agg(['mean', 'std'])\n",
        "print(round(purchase_dist_member_low_engagement, 2))\n",
        "\n",
        "purchase_dist_member_high_engagement = df[\n",
        "    (df['Guild Membership'] == 'member') &\n",
        "    (df['Side-quest Engagement'] == 'high')\n",
        "].drop(\n",
        "  ['User ID', 'Side-quest Engagement', 'Guild Membership'], axis=1\n",
        ").agg(['mean', 'std'])\n",
        "print(round(purchase_dist_member_high_engagement, 2))"
      ],
      "metadata": {
        "colab": {
          "base_uri": "https://localhost:8080/"
        },
        "id": "PFmBcr-YZ6vk",
        "outputId": "74cd7cef-e051-472c-8998-5670b5ca1b6e"
      },
      "execution_count": null,
      "outputs": [
        {
          "output_type": "stream",
          "name": "stdout",
          "text": [
            "      In-game Purchases\n",
            "mean              37.95\n",
            "std               23.80\n",
            "      In-game Purchases\n",
            "mean              54.92\n",
            "std                4.92\n",
            "      In-game Purchases\n",
            "mean             223.71\n",
            "std                5.30\n",
            "      In-game Purchases\n",
            "mean             125.53\n",
            "std               53.44\n"
          ]
        }
      ]
    },
    {
      "cell_type": "code",
      "source": [
        "# Building causal model of In-Game Purchases\n",
        "import pyro\n",
        "from torch import tensor\n",
        "from pyro.distributions import Bernoulli, Normal\n",
        "\n",
        "def model():\n",
        "    p_member = tensor(0.5)\n",
        "    is_guild_member = pyro.sample(\n",
        "        \"Guild Membership\",\n",
        "        Bernoulli(p_member)\n",
        "    )\n",
        "    p_engaged = (tensor(0.8)*is_guild_member +\n",
        "                 tensor(.2)*(1-is_guild_member))\n",
        "    is_highly_engaged = pyro.sample(\n",
        "        \"Side-quest Engagement\",\n",
        "        Bernoulli(p_engaged)\n",
        "    )\n",
        "    get_purchase_param = lambda param1, param2, param3, param4: (\n",
        "        param1 * (1-is_guild_member) * (1-is_highly_engaged) +\n",
        "        param2 * (1-is_guild_member) * (is_highly_engaged) +\n",
        "        param3 * (is_guild_member)   * (1-is_highly_engaged) +\n",
        "        param4 * (is_guild_member)   * (is_highly_engaged)\n",
        "    )\n",
        "    μ = get_purchase_param(37.95, 54.92, 223.71, 125.50)\n",
        "    σ = get_purchase_param(23.80, 4.92, 5.30, 53.49)\n",
        "    in_game_purchases = pyro.sample(\n",
        "        \"In-game Purchases\",\n",
        "        Normal(μ, σ)\n",
        "    )\n",
        "    guild_membership = \"member\" if is_guild_member else \"nonmember\"     #5\n",
        "    engagement = \"high\" if is_highly_engaged else \"low\"\n",
        "    in_game_purchases = float(in_game_purchases)\n",
        "    return guild_membership, engagement, in_game_purchases\n",
        "pyro.render_model(model)"
      ],
      "metadata": {
        "colab": {
          "base_uri": "https://localhost:8080/",
          "height": 272
        },
        "id": "oLRCXrYni-ur",
        "outputId": "8399dda2-0eec-4b38-e30f-3e8e3e24b44b"
      },
      "execution_count": null,
      "outputs": [
        {
          "output_type": "execute_result",
          "data": {
            "image/svg+xml": "<?xml version=\"1.0\" encoding=\"UTF-8\" standalone=\"no\"?>\n<!DOCTYPE svg PUBLIC \"-//W3C//DTD SVG 1.1//EN\"\n \"http://www.w3.org/Graphics/SVG/1.1/DTD/svg11.dtd\">\n<!-- Generated by graphviz version 2.43.0 (0)\n -->\n<!-- Title: %3 Pages: 1 -->\n<svg width=\"243pt\" height=\"188pt\"\n viewBox=\"0.00 0.00 242.53 188.00\" xmlns=\"http://www.w3.org/2000/svg\" xmlns:xlink=\"http://www.w3.org/1999/xlink\">\n<g id=\"graph0\" class=\"graph\" transform=\"scale(1 1) rotate(0) translate(4 184)\">\n<title>%3</title>\n<polygon fill=\"white\" stroke=\"transparent\" points=\"-4,4 -4,-184 238.53,-184 238.53,4 -4,4\"/>\n<!-- Guild Membership -->\n<g id=\"node1\" class=\"node\">\n<title>Guild Membership</title>\n<ellipse fill=\"white\" stroke=\"black\" cx=\"155.89\" cy=\"-162\" rx=\"78.79\" ry=\"18\"/>\n<text text-anchor=\"middle\" x=\"155.89\" y=\"-158.3\" font-family=\"Times,serif\" font-size=\"14.00\">Guild Membership</text>\n</g>\n<!-- Side&#45;quest Engagement -->\n<g id=\"node2\" class=\"node\">\n<title>Side&#45;quest Engagement</title>\n<ellipse fill=\"white\" stroke=\"black\" cx=\"94.89\" cy=\"-90\" rx=\"94.78\" ry=\"18\"/>\n<text text-anchor=\"middle\" x=\"94.89\" y=\"-86.3\" font-family=\"Times,serif\" font-size=\"14.00\">Side&#45;quest Engagement</text>\n</g>\n<!-- Guild Membership&#45;&gt;Side&#45;quest Engagement -->\n<g id=\"edge1\" class=\"edge\">\n<title>Guild Membership&#45;&gt;Side&#45;quest Engagement</title>\n<path fill=\"none\" stroke=\"black\" d=\"M141.13,-144.05C133.63,-135.46 124.4,-124.86 116.15,-115.4\"/>\n<polygon fill=\"black\" stroke=\"black\" points=\"118.73,-113.03 109.52,-107.79 113.45,-117.63 118.73,-113.03\"/>\n</g>\n<!-- In&#45;game Purchases -->\n<g id=\"node3\" class=\"node\">\n<title>In&#45;game Purchases</title>\n<ellipse fill=\"white\" stroke=\"black\" cx=\"155.89\" cy=\"-18\" rx=\"77.99\" ry=\"18\"/>\n<text text-anchor=\"middle\" x=\"155.89\" y=\"-14.3\" font-family=\"Times,serif\" font-size=\"14.00\">In&#45;game Purchases</text>\n</g>\n<!-- Guild Membership&#45;&gt;In&#45;game Purchases -->\n<g id=\"edge2\" class=\"edge\">\n<title>Guild Membership&#45;&gt;In&#45;game Purchases</title>\n<path fill=\"none\" stroke=\"black\" d=\"M174.48,-144.3C183.74,-134.72 193.98,-121.85 198.89,-108 204.24,-92.92 204.24,-87.08 198.89,-72 195.17,-61.51 188.39,-51.58 181.29,-43.21\"/>\n<polygon fill=\"black\" stroke=\"black\" points=\"183.79,-40.75 174.48,-35.7 178.61,-45.46 183.79,-40.75\"/>\n</g>\n<!-- Side&#45;quest Engagement&#45;&gt;In&#45;game Purchases -->\n<g id=\"edge3\" class=\"edge\">\n<title>Side&#45;quest Engagement&#45;&gt;In&#45;game Purchases</title>\n<path fill=\"none\" stroke=\"black\" d=\"M109.66,-72.05C117.15,-63.46 126.39,-52.86 134.63,-43.4\"/>\n<polygon fill=\"black\" stroke=\"black\" points=\"137.33,-45.63 141.26,-35.79 132.05,-41.03 137.33,-45.63\"/>\n</g>\n</g>\n</svg>\n",
            "text/plain": [
              "<graphviz.graphs.Digraph at 0x7c699d3fcc10>"
            ]
          },
          "metadata": {},
          "execution_count": 8
        }
      ]
    },
    {
      "cell_type": "code",
      "source": [
        "# intervention models\n",
        "int_engaged_model = pyro.do(model, data={\"Side-quest Engagement\": tensor(1)})\n",
        "int_unengaged_model = pyro.do(model, data={\"Side-quest Engagement\": tensor(0)})"
      ],
      "metadata": {
        "id": "2wQ6yllUi1tZ"
      },
      "execution_count": null,
      "outputs": []
    },
    {
      "cell_type": "code",
      "source": [
        "# simulate experiment with intervention models\n",
        "pyro.util.set_rng_seed(123)\n",
        "simulated_experimental_data = [\n",
        "    int_engaged_model() for _ in range(500)\n",
        "] + [\n",
        "    int_unengaged_model() for _ in range(500)\n",
        "]\n",
        "simulated_experimental_data = pd.DataFrame(\n",
        "    simulated_experimental_data,\n",
        "    columns=[\n",
        "        \"Guild Membership\",\n",
        "        \"Side-quest Engagement\",\n",
        "        \"In-Game Purchases\"\n",
        "    ]\n",
        ")\n",
        "sim_exp_df = simulated_experimental_data.drop(\n",
        "    \"Guild Membership\", axis=1)\n",
        "summary = sim_exp_df.groupby(\n",
        "        [\"Side-quest Engagement\"]\n",
        "    ).agg(\n",
        "        ['count', 'mean', 'std']\n",
        "    )\n",
        "print(summary)"
      ],
      "metadata": {
        "colab": {
          "base_uri": "https://localhost:8080/"
        },
        "id": "g5Ld-XUIl-NO",
        "outputId": "c140277f-d4c2-4354-95ac-83e8a39afd94"
      },
      "execution_count": null,
      "outputs": [
        {
          "output_type": "stream",
          "name": "stdout",
          "text": [
            "                      In-Game Purchases                       \n",
            "                                  count        mean        std\n",
            "Side-quest Engagement                                         \n",
            "high                                500   89.897309  52.696709\n",
            "low                                 500  130.674021  93.921543\n"
          ]
        }
      ]
    }
  ]
}